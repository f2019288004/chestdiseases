{
 "cells": [
  {
   "cell_type": "code",
   "execution_count": null,
   "metadata": {
    "colab": {
     "base_uri": "https://localhost:8080/"
    },
    "executionInfo": {
     "elapsed": 22188,
     "status": "ok",
     "timestamp": 1670224173574,
     "user": {
      "displayName": "Jannat Fatima",
      "userId": "05883290161461268870"
     },
     "user_tz": -300
    },
    "id": "GWyjENdNY4MC",
    "outputId": "74974c6d-32f7-4b67-a7a4-bb312ced34da"
   },
   "outputs": [],
   "source": [
    "# Installing Required Libraries\n",
    "!pip install tensorflow \n",
    "!pip install keras \n",
    "!pip install imblearn \n",
    "!pip install matplotlib \n",
    "!pip install seaborn \n",
    "!pip install scikit-learn \n",
    "!pip install tensorflow-addons"
   ]
  },
  {
   "cell_type": "code",
   "execution_count": null,
   "metadata": {
    "executionInfo": {
     "elapsed": 8,
     "status": "ok",
     "timestamp": 1670224176819,
     "user": {
      "displayName": "Jannat Fatima",
      "userId": "05883290161461268870"
     },
     "user_tz": -300
    },
    "id": "YpqVDQecZMdq"
   },
   "outputs": [],
   "source": [
    "# Use for numerical analysis\n",
    "import numpy as np\n",
    "import random\n",
    "\n",
    "# Use for Plotting\n",
    "import seaborn as sns\n",
    "import matplotlib.pyplot as plt\n",
    "\n",
    "\n",
    "#  Use for DataGenerator to read images and rescale images\n",
    "from tensorflow.keras.preprocessing.image import ImageDataGenerator\n",
    "\n",
    "import tensorflow as tf\n",
    "import tensorflow_addons as tfa\n",
    "\n",
    "# Use for count each class samples\n",
    "from collections import Counter\n",
    "\n",
    "#  Use for callbacks\n",
    "from tensorflow.keras.callbacks import ReduceLROnPlateau\n",
    "\n",
    "#  Use for evaluate precison recall and f1-score of each class of model\n",
    "from sklearn.metrics import classification_report\n",
    "\n",
    "# Use for Show performance of a classification model\n",
    "from sklearn.metrics import confusion_matrix\n",
    "\n",
    "# Use for Different layers\n",
    "from keras.models import Sequential\n",
    "from tensorflow.keras.layers import Input\n",
    "from tensorflow.keras.layers import Flatten\n",
    "from tensorflow.keras.layers import MaxPool2D\n",
    "from tensorflow.keras.layers import Conv2D\n",
    "from tensorflow.keras.layers import Dense\n",
    "from tensorflow.keras.layers import Dropout\n",
    "from tensorflow.keras.layers import ReLU\n",
    "from tensorflow.keras.layers import Softmax\n",
    "\n",
    "# Use for split dataset to train, validation and test set\n",
    "from sklearn.model_selection import train_test_split\n",
    "\n",
    "# Use for callbacks\n",
    "from keras import callbacks\n",
    "\n",
    "#   Use for SMOTE (ADASYN) from imblance library\n",
    "from imblearn.over_sampling import ADASYN\n",
    "\n",
    "#  Use for Optimizer\n",
    "from tensorflow.keras.optimizers import RMSprop\n",
    "\n",
    "from sklearn.metrics import roc_curve, auc\n",
    "from itertools import cycle"
   ]
  },
  {
   "cell_type": "code",
   "execution_count": null,
   "metadata": {
    "colab": {
     "base_uri": "https://localhost:8080/"
    },
    "executionInfo": {
     "elapsed": 3779,
     "status": "ok",
     "timestamp": 1670224187486,
     "user": {
      "displayName": "Jannat Fatima",
      "userId": "05883290161461268870"
     },
     "user_tz": -300
    },
    "id": "RN7W1ymWZPzV",
    "outputId": "29c2d982-d31c-4671-d6d7-95db9a4e3001"
   },
   "outputs": [],
   "source": [
    "# Connect with GMAIL ID and give access\n",
    "from google.colab import drive\n",
    "drive.mount('/content/drive')"
   ]
  },
  {
   "cell_type": "code",
   "execution_count": null,
   "metadata": {
    "executionInfo": {
     "elapsed": 646,
     "status": "ok",
     "timestamp": 1670224725113,
     "user": {
      "displayName": "Jannat Fatima",
      "userId": "05883290161461268870"
     },
     "user_tz": -300
    },
    "id": "gGFpuVEUZrd3"
   },
   "outputs": [],
   "source": [
    "## Set Path Here before running the code\n",
    "# Set path to your dataset\n",
    "WORKING_DIRECTORY = ('/content/drive/')\n",
    "\n",
    "##  Write Name of chest diseases classes folder \n",
    "\n",
    "CLASSES = ['COVID-19',\n",
    "           'LC',\n",
    "           'COL',\n",
    "           'ATE',\n",
    "           'TB',\n",
    "           'PNEUTH',\n",
    "           'EDE',\n",
    "           'PNEU',\n",
    "           'NOR']\n",
    "\n",
    "# set image size to 150 x 150 \n",
    "IMG_SIZE = 150"
   ]
  },
  {
   "cell_type": "code",
   "execution_count": null,
   "metadata": {
    "colab": {
     "base_uri": "https://localhost:8080/"
    },
    "executionInfo": {
     "elapsed": 204748,
     "status": "ok",
     "timestamp": 1670224933382,
     "user": {
      "displayName": "Jannat Fatima",
      "userId": "05883290161461268870"
     },
     "user_tz": -300
    },
    "id": "OMiuzfg1aQsY",
    "outputId": "ce219eda-7b86-45db-d37d-4373d9852c48"
   },
   "outputs": [],
   "source": [
    "X, y = [], []\n",
    "\n",
    "## Images rescaling\n",
    "datagen = ImageDataGenerator(rescale=1.0/255.0)\n",
    "\n",
    "#   Loading and extracting features from images by resizing and shuffling randomly\n",
    "train_dataset = datagen.flow_from_directory(WORKING_DIRECTORY, target_size=(IMG_SIZE, IMG_SIZE),batch_size=6400, shuffle=True)\n",
    "\n",
    "### Seperate Dataset from  Data Genrator\n",
    "X, y = train_dataset.next()"
   ]
  },
  {
   "cell_type": "code",
   "execution_count": null,
   "metadata": {
    "colab": {
     "base_uri": "https://localhost:8080/"
    },
    "executionInfo": {
     "elapsed": 436,
     "status": "ok",
     "timestamp": 1670225148309,
     "user": {
      "displayName": "Jannat Fatima",
      "userId": "05883290161461268870"
     },
     "user_tz": -300
    },
    "id": "wknU9jeMaexw",
    "outputId": "8d92b009-db4f-4939-917a-02d71eded4e5"
   },
   "outputs": [],
   "source": [
    "#Getting Detail of the dataset before applying SMOTE\n",
    "\n",
    "samples_before = len(X)\n",
    "print(\"Images shape :\\t\", X.shape)\n",
    "print(\"Labels shape :\\t\", y.shape)"
   ]
  },
  {
   "cell_type": "code",
   "execution_count": null,
   "metadata": {
    "colab": {
     "base_uri": "https://localhost:8080/"
    },
    "executionInfo": {
     "elapsed": 564,
     "status": "ok",
     "timestamp": 1670225162039,
     "user": {
      "displayName": "Jannat Fatima",
      "userId": "05883290161461268870"
     },
     "user_tz": -300
    },
    "id": "Z4UTI366aqo3",
    "outputId": "6f084ce4-dfcb-41fd-96df-d39e69968c83"
   },
   "outputs": [],
   "source": [
    "#   Number of samples in classes \n",
    "print(\"Number of samples in each class:\\t\", sorted(Counter(np.argmax(y, axis=1)).items()))\n",
    "\n",
    "#   class labels as per indices\n",
    "print(\"Classes Names according to index:\\t\", train_dataset.class_indices)"
   ]
  },
  {
   "cell_type": "code",
   "execution_count": null,
   "metadata": {
    "colab": {
     "base_uri": "https://localhost:8080/",
     "height": 479
    },
    "executionInfo": {
     "elapsed": 3726,
     "status": "ok",
     "timestamp": 1670225180464,
     "user": {
      "displayName": "Jannat Fatima",
      "userId": "05883290161461268870"
     },
     "user_tz": -300
    },
    "id": "slvzebAubHOa",
    "outputId": "d71e2085-7745-40f5-b0fa-ab85aab7346d"
   },
   "outputs": [],
   "source": [
    "#   show some samples from the dataset randomly\n",
    "fig = plt.figure(figsize=(10,8))\n",
    "\n",
    "rows = 4\n",
    "columns = 4\n",
    "\n",
    "for i in range(rows * columns):\n",
    "    fig.add_subplot(rows, columns, i+1)\n",
    "    num = random.randint(0, len(X)-1 )\n",
    "    plt.imshow(X[num])\n",
    "    plt.axis('off')\n",
    "    plt.title(CLASSES[(np.argmax(y[num]))], fontsize=8)\n",
    "plt.axis('off')\n",
    "plt.show()"
   ]
  },
  {
   "cell_type": "code",
   "execution_count": null,
   "metadata": {
    "colab": {
     "base_uri": "https://localhost:8080/"
    },
    "executionInfo": {
     "elapsed": 56343,
     "status": "ok",
     "timestamp": 1670225253482,
     "user": {
      "displayName": "Jannat Fatima",
      "userId": "05883290161461268870"
     },
     "user_tz": -300
    },
    "id": "FpZd0SxubfKR",
    "outputId": "fd230db5-f135-4d55-bf79-ca20ab693029"
   },
   "outputs": [],
   "source": [
    "#   reshaping the images to 1D\n",
    "X = X.reshape(-1, IMG_SIZE * IMG_SIZE * 3)\n",
    "\n",
    "#   Oversampling method to remove imbalance class problem\n",
    "X, y = ADASYN().fit_resample(X, y)\n",
    "\n",
    "#   reshape images to images size of 208, 176, 3\n",
    "X = X.reshape(-1, IMG_SIZE, IMG_SIZE, 3)\n",
    "\n",
    "samples_after = len(X)\n",
    "print(\"Number of samples after SMOTETomek :\\t\", sorted(Counter(np.argmax(y, axis=1)).items()))"
   ]
  },
  {
   "cell_type": "code",
   "execution_count": null,
   "metadata": {
    "colab": {
     "base_uri": "https://localhost:8080/",
     "height": 479
    },
    "executionInfo": {
     "elapsed": 2153,
     "status": "ok",
     "timestamp": 1670225283558,
     "user": {
      "displayName": "Jannat Fatima",
      "userId": "05883290161461268870"
     },
     "user_tz": -300
    },
    "id": "Z3qqRsvELxwX",
    "outputId": "557ca983-7311-4774-aad2-519ce6f21188"
   },
   "outputs": [],
   "source": [
    "fig = plt.figure(figsize=(10,8))\n",
    "\n",
    "rows = 4\n",
    "columns = 4\n",
    "\n",
    "for i in range(rows * columns):\n",
    "    fig.add_subplot(rows, columns, i+1)\n",
    "    num = random.randint(samples_before, samples_after - 1 )\n",
    "    plt.imshow(X[num])\n",
    "    plt.axis('off')\n",
    "    plt.title(CLASSES[(np.argmax(y[num]))], fontsize=8)\n",
    "plt.axis('off')\n",
    "plt.show()"
   ]
  },
  {
   "cell_type": "code",
   "execution_count": null,
   "metadata": {
    "colab": {
     "base_uri": "https://localhost:8080/"
    },
    "executionInfo": {
     "elapsed": 2413,
     "status": "ok",
     "timestamp": 1670225300502,
     "user": {
      "displayName": "Jannat Fatima",
      "userId": "05883290161461268870"
     },
     "user_tz": -300
    },
    "id": "sXSIZCiNL3Go",
    "outputId": "5dc9d635-85e6-4d4d-d834-da8db79c1519"
   },
   "outputs": [],
   "source": [
    "#   10% split to validation and 90% split to train set\n",
    "X_train, x_val, y_train, y_val = train_test_split(X,y, test_size = 0.1)\n",
    "\n",
    "#   10% split to test from 90% of train and 80% remains in train set\n",
    "X_train, x_test, y_train, y_test = train_test_split(X_train,y_train, test_size = 0.1)\n",
    "\n",
    "# Number of samples after train test split\n",
    "print(\"Number of samples after splitting into Training, validation & test set\\n\")\n",
    "\n",
    "print(\"Train     \\t\",sorted(Counter(np.argmax(y_train, axis=1)).items()))\n",
    "print(\"Validation\\t\",sorted(Counter(np.argmax(y_val, axis=1)).items()))\n",
    "print(\"Test      \\t\",sorted(Counter(np.argmax(y_test, axis=1)).items()))"
   ]
  },
  {
   "cell_type": "code",
   "execution_count": null,
   "metadata": {
    "executionInfo": {
     "elapsed": 420,
     "status": "ok",
     "timestamp": 1670225310060,
     "user": {
      "displayName": "Jannat Fatima",
      "userId": "05883290161461268870"
     },
     "user_tz": -300
    },
    "id": "X_fuxec9L6Lh"
   },
   "outputs": [],
   "source": [
    "#   to free memeory we don't need this one as we split our data\n",
    "del X, y"
   ]
  },
  {
   "cell_type": "code",
   "execution_count": null,
   "metadata": {
    "colab": {
     "base_uri": "https://localhost:8080/"
    },
    "executionInfo": {
     "elapsed": 1092,
     "status": "ok",
     "timestamp": 1670225339362,
     "user": {
      "displayName": "Jannat Fatima",
      "userId": "05883290161461268870"
     },
     "user_tz": -300
    },
    "id": "Ub4PNzMPL_gL",
    "outputId": "2f722173-6f66-46ef-c6c5-e2ae64e2aa2e"
   },
   "outputs": [],
   "source": [
    "from keras.initializers import LecunUniformV2\n",
    "init = LecunUniformV2\n",
    "\n",
    "model = Sequential()\n",
    "\n",
    "model.add(Input(shape=(IMG_SIZE, IMG_SIZE, 3)))\n",
    "\n",
    "model.add(Conv2D(8, 3, padding=\"same\", kernel_initializer=init))\n",
    "model.add(ReLU())\n",
    "model.add(MaxPool2D(pool_size=(2,2)))\n",
    "\n",
    "model.add(Conv2D(16, 3, padding=\"same\", kernel_initializer=init))\n",
    "model.add(ReLU())\n",
    "model.add(MaxPool2D(pool_size=(2,2)))\n",
    "\n",
    "model.add(Conv2D(32, 3, padding=\"same\", kernel_initializer=init))\n",
    "model.add(ReLU())\n",
    "model.add(MaxPool2D(pool_size=(2,2)))\n",
    "\n",
    "model.add(Conv2D(64, 3, padding=\"same\", kernel_initializer=init))\n",
    "model.add(ReLU())\n",
    "model.add(MaxPool2D(pool_size=(2,2)))\n",
    "\n",
    "model.add(Conv2D(128, 3, padding=\"same\", kernel_initializer=init))\n",
    "model.add(ReLU())\n",
    "model.add(MaxPool2D(pool_size=(2,2)))\n",
    "\n",
    "\n",
    "model.add(Dropout(0.2))\n",
    "\n",
    "model.add(Flatten())\n",
    "\n",
    "model.add(Dense(512, kernel_initializer=init))\n",
    "model.add(ReLU())\n",
    "\n",
    "model.add(Dense(9, kernel_initializer=init))\n",
    "model.add(Softmax())\n",
    "\n",
    "model.summary()"
   ]
  },
  {
   "cell_type": "code",
   "execution_count": null,
   "metadata": {
    "executionInfo": {
     "elapsed": 460,
     "status": "ok",
     "timestamp": 1670225353299,
     "user": {
      "displayName": "Jannat Fatima",
      "userId": "05883290161461268870"
     },
     "user_tz": -300
    },
    "id": "FWOHr_F1MEQP"
   },
   "outputs": [],
   "source": [
    "### Model Compilation\n",
    "model.compile(\n",
    "    optimizer = RMSprop(learning_rate=0.0001), \n",
    "    loss = tf.keras.losses.CategoricalCrossentropy(name='loss'), \n",
    "    metrics=[\n",
    "        tf.keras.metrics.CategoricalAccuracy(name='acc'), \n",
    "        tf.keras.metrics.AUC(name='auc'),\n",
    "        tfa.metrics.F1Score(num_classes=9),\n",
    "        tf.metrics.Precision(name=\"precision\"),\n",
    "        tf.metrics.Recall(name=\"recall\") ])"
   ]
  },
  {
   "cell_type": "code",
   "execution_count": null,
   "metadata": {
    "executionInfo": {
     "elapsed": 497,
     "status": "ok",
     "timestamp": 1670225368199,
     "user": {
      "displayName": "Jannat Fatima",
      "userId": "05883290161461268870"
     },
     "user_tz": -300
    },
    "id": "Z-K4osqeMGjC"
   },
   "outputs": [],
   "source": [
    "# callbacks used in model to perform well\n",
    "rop_callback = ReduceLROnPlateau(monitor=\"val_loss\", patience=2)\n",
    "\n",
    "CALLBACKS = [rop_callback]"
   ]
  },
  {
   "cell_type": "code",
   "execution_count": null,
   "metadata": {
    "colab": {
     "base_uri": "https://localhost:8080/"
    },
    "executionInfo": {
     "elapsed": 2239533,
     "status": "ok",
     "timestamp": 1670227622834,
     "user": {
      "displayName": "Jannat Fatima",
      "userId": "05883290161461268870"
     },
     "user_tz": -300
    },
    "id": "tgtVB0F_MLu-",
    "outputId": "6fba27f7-2449-46f8-dd2c-1641ed7f9156"
   },
   "outputs": [],
   "source": [
    "#   declare to run on small gpu create batch sizes of images\n",
    "valAug = ImageDataGenerator()\n",
    "\n",
    "#   defining batch size\n",
    "batch_size = 32\n",
    "\n",
    "history = model.fit(valAug.flow(X_train, y_train, batch_size=batch_size, shuffle = True),\n",
    "steps_per_epoch=len(X_train) // batch_size,\n",
    "validation_data=valAug.flow(x_val, y_val, batch_size=batch_size, shuffle = True),\n",
    "validation_steps=len(x_test) // batch_size,\n",
    "epochs= 50,\n",
    "batch_size=batch_size,\n",
    "callbacks = CALLBACKS\n",
    ")"
   ]
  },
  {
   "cell_type": "code",
   "execution_count": null,
   "metadata": {
    "colab": {
     "base_uri": "https://localhost:8080/"
    },
    "executionInfo": {
     "elapsed": 3215,
     "status": "ok",
     "timestamp": 1670227647755,
     "user": {
      "displayName": "Jannat Fatima",
      "userId": "05883290161461268870"
     },
     "user_tz": -300
    },
    "id": "olFu_rcFUzsD",
    "outputId": "ea47107f-95c3-43d4-e86a-26a8b36e6952"
   },
   "outputs": [],
   "source": [
    "### Evaluate Model\n",
    "test_scores = model.evaluate(x_test, y_test, batch_size = 32)\n",
    "\n",
    "\n",
    "print(\"\\n\\nTesting Loss : \\t\\t {0:0.6f}\".format(test_scores[0] ))\n",
    "print(\"Testing Accuracy : \\t {0:0.6f} %\".format(test_scores[1] * 100))\n",
    "print(\"Testing AC : \\t\\t {0:0.6f} %\".format(test_scores[2] * 100))\n",
    "print(\"Testing F1-Score : \\t {0:0.6f} %\".format(\n",
    "    ((test_scores[3][0] + test_scores[3][1] + test_scores[3][2] + test_scores[3][3] + \n",
    "     test_scores[3][4] + test_scores[3][5] + test_scores[3][6] + test_scores[3][7]\n",
    "     + test_scores[3][8])/9) * 100))\n",
    "print(\"Testing Precision : \\t {0:0.6f} %\".format(test_scores[4] * 100))\n",
    "print(\"Testing Recall : \\t {0:0.6f} %\".format(test_scores[5] * 100))"
   ]
  },
  {
   "cell_type": "code",
   "execution_count": null,
   "metadata": {
    "colab": {
     "base_uri": "https://localhost:8080/",
     "height": 295
    },
    "executionInfo": {
     "elapsed": 506,
     "status": "ok",
     "timestamp": 1670227676508,
     "user": {
      "displayName": "Jannat Fatima",
      "userId": "05883290161461268870"
     },
     "user_tz": -300
    },
    "id": "8csvTueWU4Yc",
    "outputId": "f8e407c3-c9c2-4174-8c88-1db9877f672e"
   },
   "outputs": [],
   "source": [
    "plt.plot(history.history['acc'], 'b')\n",
    "plt.plot(history.history['val_acc'], 'g')\n",
    "plt.title(\"Model Accuracy\")\n",
    "plt.xlabel(\"Epochs\")\n",
    "plt.ylabel(\"Accuracy\")\n",
    "plt.legend([\"train\", \"val\"])\n",
    "plt.show()"
   ]
  },
  {
   "cell_type": "code",
   "execution_count": null,
   "metadata": {
    "colab": {
     "base_uri": "https://localhost:8080/",
     "height": 295
    },
    "executionInfo": {
     "elapsed": 535,
     "status": "ok",
     "timestamp": 1670227693629,
     "user": {
      "displayName": "Jannat Fatima",
      "userId": "05883290161461268870"
     },
     "user_tz": -300
    },
    "id": "lJskK6CuU_fQ",
    "outputId": "f9b3a7b3-15b7-4fbc-caed-30a6c0242a95"
   },
   "outputs": [],
   "source": [
    "plt.plot(history.history['loss'], 'b')\n",
    "plt.plot(history.history['val_loss'], 'g')\n",
    "plt.title(\"Model Loss\")\n",
    "plt.xlabel(\"Epochs\")\n",
    "plt.ylabel(\"Loss\")\n",
    "plt.legend([\"train\", \"val\"])\n",
    "plt.show()"
   ]
  },
  {
   "cell_type": "code",
   "execution_count": null,
   "metadata": {
    "colab": {
     "base_uri": "https://localhost:8080/",
     "height": 295
    },
    "executionInfo": {
     "elapsed": 707,
     "status": "ok",
     "timestamp": 1670227741488,
     "user": {
      "displayName": "Jannat Fatima",
      "userId": "05883290161461268870"
     },
     "user_tz": -300
    },
    "id": "04hWrp-3VCk6",
    "outputId": "996fb180-ff27-4b4f-99d3-a5f90de43473"
   },
   "outputs": [],
   "source": [
    "plt.plot(history.history['auc'], 'b')\n",
    "plt.plot(history.history['val_auc'], 'g')\n",
    "plt.title(\"Model AUC\")\n",
    "plt.xlabel(\"Epochs\")\n",
    "plt.ylabel(\"AUC\")\n",
    "plt.legend([\"train\", \"val\"])\n",
    "plt.show()"
   ]
  },
  {
   "cell_type": "code",
   "execution_count": null,
   "metadata": {
    "colab": {
     "base_uri": "https://localhost:8080/",
     "height": 295
    },
    "executionInfo": {
     "elapsed": 932,
     "status": "ok",
     "timestamp": 1670227755506,
     "user": {
      "displayName": "Jannat Fatima",
      "userId": "05883290161461268870"
     },
     "user_tz": -300
    },
    "id": "z0N_9fZ2VPJs",
    "outputId": "bd6d211f-f5e0-4999-80c1-2bc962b6d68a"
   },
   "outputs": [],
   "source": [
    "plt.plot(history.history['precision'], 'b')\n",
    "plt.plot(history.history['val_precision'], 'g')\n",
    "plt.title(\"Model Precision\")\n",
    "plt.xlabel(\"Epochs\")\n",
    "plt.ylabel(\"Precision\")\n",
    "plt.legend([\"train\", \"val\"])\n",
    "plt.show()"
   ]
  },
  {
   "cell_type": "code",
   "execution_count": null,
   "metadata": {
    "colab": {
     "base_uri": "https://localhost:8080/",
     "height": 295
    },
    "executionInfo": {
     "elapsed": 479,
     "status": "ok",
     "timestamp": 1670227768879,
     "user": {
      "displayName": "Jannat Fatima",
      "userId": "05883290161461268870"
     },
     "user_tz": -300
    },
    "id": "zsklVbKWVSVx",
    "outputId": "78e07902-bcd0-4332-8e9f-7aea909f17b0"
   },
   "outputs": [],
   "source": [
    "plt.plot(history.history['recall'], 'b')\n",
    "plt.plot(history.history['val_recall'], 'g')\n",
    "plt.title(\"Model Recall\")\n",
    "plt.xlabel(\"Epochs\")\n",
    "plt.ylabel(\"Recall\")\n",
    "plt.legend([\"train\", \"val\"])\n",
    "plt.show()"
   ]
  },
  {
   "cell_type": "code",
   "execution_count": null,
   "metadata": {
    "colab": {
     "base_uri": "https://localhost:8080/",
     "height": 295
    },
    "executionInfo": {
     "elapsed": 681,
     "status": "ok",
     "timestamp": 1670227784257,
     "user": {
      "displayName": "Jannat Fatima",
      "userId": "05883290161461268870"
     },
     "user_tz": -300
    },
    "id": "XL-afLZLVWMl",
    "outputId": "4fb8b1a7-ba76-4355-fc9e-6bccf2804525"
   },
   "outputs": [],
   "source": [
    "plt.plot(history.history['f1_score'])\n",
    "plt.plot(history.history['val_f1_score'])\n",
    "plt.title(\"Model F1-Score\")\n",
    "plt.xlabel(\"Epochs\")\n",
    "plt.ylabel(\"F1-Score\")\n",
    "plt.show()"
   ]
  },
  {
   "cell_type": "code",
   "execution_count": null,
   "metadata": {
    "colab": {
     "base_uri": "https://localhost:8080/"
    },
    "executionInfo": {
     "elapsed": 3193,
     "status": "ok",
     "timestamp": 1670227811478,
     "user": {
      "displayName": "Jannat Fatima",
      "userId": "05883290161461268870"
     },
     "user_tz": -300
    },
    "id": "oPl6WlH5VcAv",
    "outputId": "60ca38d6-6739-4d83-d7c8-f112692ae929"
   },
   "outputs": [],
   "source": [
    "pred_labels = model.predict(x_test, batch_size=32)\n",
    "\n",
    "def roundoff(arr):\n",
    "    arr[np.argwhere(arr != arr.max())] = 0\n",
    "    arr[np.argwhere(arr == arr.max())] = 1\n",
    "    return arr\n",
    "\n",
    "for labels in pred_labels:\n",
    "    labels = roundoff(labels)\n",
    "\n",
    "print(classification_report(y_test, pred_labels, target_names=CLASSES))"
   ]
  },
  {
   "cell_type": "code",
   "execution_count": null,
   "metadata": {
    "colab": {
     "base_uri": "https://localhost:8080/",
     "height": 649
    },
    "executionInfo": {
     "elapsed": 1145,
     "status": "ok",
     "timestamp": 1670227839142,
     "user": {
      "displayName": "Jannat Fatima",
      "userId": "05883290161461268870"
     },
     "user_tz": -300
    },
    "id": "nJ9yY1TPVhj7",
    "outputId": "c67350ad-5821-453c-b2bc-d5b941f25358"
   },
   "outputs": [],
   "source": [
    "pred_ls = np.argmax(pred_labels, axis=1)\n",
    "test_ls = np.argmax(y_test, axis=1)\n",
    "\n",
    "conf_arr = confusion_matrix(test_ls, pred_ls)\n",
    "\n",
    "plt.figure(figsize=(10, 8), dpi=80, facecolor='w', edgecolor='k')\n",
    "\n",
    "ax = sns.heatmap(conf_arr, cmap='OrRd', annot=True, fmt='d', xticklabels= CLASSES, yticklabels=CLASSES)\n",
    "\n",
    "plt.title('Confusion Matrix of Model', fontweight='bold', fontsize=14.0)\n",
    "plt.xlabel('Predictions', fontweight='bold', fontsize=13)\n",
    "plt.ylabel('Ground Truth', fontweight='bold', fontsize=13)\n",
    "plt.tight_layout()\n",
    "plt.show(ax)"
   ]
  },
  {
   "cell_type": "code",
   "execution_count": null,
   "metadata": {
    "colab": {
     "base_uri": "https://localhost:8080/",
     "height": 295
    },
    "executionInfo": {
     "elapsed": 797,
     "status": "ok",
     "timestamp": 1670227856165,
     "user": {
      "displayName": "Jannat Fatima",
      "userId": "05883290161461268870"
     },
     "user_tz": -300
    },
    "id": "jcKWBxh6VnRw",
    "outputId": "a8c16425-5038-4230-f54e-a877175b9dd9"
   },
   "outputs": [],
   "source": [
    "fpr = dict()\n",
    "tpr = dict()\n",
    "roc_auc = dict()\n",
    "for i in range(9):\n",
    "    fpr[i], tpr[i], _ = roc_curve(y_test[:, i], pred_labels[:, i])\n",
    "    roc_auc[i] = auc(fpr[i], tpr[i])\n",
    "\n",
    "# Compute micro-average ROC curve and ROC area\n",
    "fpr[\"micro\"], tpr[\"micro\"], _ = roc_curve(y_test.ravel(), pred_labels.ravel())\n",
    "roc_auc[\"micro\"] = auc(fpr[\"micro\"], tpr[\"micro\"])\n",
    "\n",
    "plt.figure()\n",
    "lw = 2\n",
    "plt.plot(\n",
    "    fpr[2],\n",
    "    tpr[2],\n",
    "    color=\"darkorange\",\n",
    "    lw=lw,\n",
    "    label=\"ROC curve (area = %0.4f)\" % roc_auc[2])\n",
    "\n",
    "plt.plot([0, 1], [0, 1], color=\"navy\", lw=lw, linestyle=\"--\")\n",
    "plt.xlabel(\"False Positive Rate\")\n",
    "plt.ylabel(\"True Positive Rate\")\n",
    "plt.title(\"Receiver operating characteristic \")\n",
    "plt.legend(loc=\"lower right\")\n",
    "plt.show()"
   ]
  },
  {
   "cell_type": "code",
   "execution_count": null,
   "metadata": {
    "colab": {
     "base_uri": "https://localhost:8080/",
     "height": 295
    },
    "executionInfo": {
     "elapsed": 654,
     "status": "ok",
     "timestamp": 1670227887370,
     "user": {
      "displayName": "Jannat Fatima",
      "userId": "05883290161461268870"
     },
     "user_tz": -300
    },
    "id": "Epe6l3xcVqEu",
    "outputId": "a8599e0f-9228-4e45-9673-02dfe7a6ff48"
   },
   "outputs": [],
   "source": [
    "n_classes = 9\n",
    "# First aggregate all false positive rates\n",
    "all_fpr = np.unique(np.concatenate([fpr[i] for i in range(n_classes)]))\n",
    "\n",
    "# Then interpolate all ROC curves at this points\n",
    "mean_tpr = np.zeros_like(all_fpr)\n",
    "for i in range(n_classes):\n",
    "    mean_tpr += np.interp(all_fpr, fpr[i], tpr[i])\n",
    "\n",
    "# Finally average it and compute AUC\n",
    "mean_tpr /= n_classes\n",
    "\n",
    "fpr[\"macro\"] = all_fpr\n",
    "tpr[\"macro\"] = mean_tpr\n",
    "roc_auc[\"macro\"] = auc(fpr[\"macro\"], tpr[\"macro\"])\n",
    "\n",
    "# Plot all ROC curves\n",
    "plt.figure()\n",
    "plt.plot(\n",
    "    fpr[\"micro\"],\n",
    "    tpr[\"micro\"],\n",
    "    label=\"micro-average ROC curve (area = {0:0.4f})\".format(roc_auc[\"micro\"]),\n",
    "    color=\"deeppink\",\n",
    "    linestyle=\":\",\n",
    "    linewidth=4,\n",
    ")\n",
    "\n",
    "plt.plot(\n",
    "    fpr[\"macro\"],\n",
    "    tpr[\"macro\"],\n",
    "    label=\"macro-average ROC curve (area = {0:0.4f})\".format(roc_auc[\"macro\"]),\n",
    "    color=\"navy\",\n",
    "    linestyle=\":\",\n",
    "    linewidth=4,\n",
    ")\n",
    "\n",
    "for i in range(n_classes):\n",
    "    plt.plot(\n",
    "        fpr[i],\n",
    "        tpr[i],\n",
    "        lw=lw,\n",
    "        label=\"ROC curve of class {0} (area = {1:0.4f})\".format(i, roc_auc[i]),\n",
    "    )\n",
    "\n",
    "plt.plot([0, 1], [0, 1], \"k--\", lw=lw)\n",
    "plt.xlabel(\"False Positive Rate\")\n",
    "plt.ylabel(\"True Positive Rate\")\n",
    "plt.title(\"Some extension of Receiver operating characteristic to multiclass\")\n",
    "plt.legend(loc=\"lower right\")\n",
    "plt.show()"
   ]
  },
  {
   "cell_type": "code",
   "execution_count": null,
   "metadata": {
    "executionInfo": {
     "elapsed": 521,
     "status": "ok",
     "timestamp": 1670227943513,
     "user": {
      "displayName": "Jannat Fatima",
      "userId": "05883290161461268870"
     },
     "user_tz": -300
    },
    "id": "EWzlbZyRV9E1"
   },
   "outputs": [],
   "source": [
    "#    To save the model in the current directory\n",
    "model.save(\".\\\\model.h5\")"
   ]
  }
 ],
 "metadata": {
  "colab": {
   "authorship_tag": "ABX9TyNX3Zj/+Ny3f0pNKXLK9vHl",
   "provenance": []
  },
  "kernelspec": {
   "display_name": "Python 3 (ipykernel)",
   "language": "python",
   "name": "python3"
  },
  "language_info": {
   "codemirror_mode": {
    "name": "ipython",
    "version": 3
   },
   "file_extension": ".py",
   "mimetype": "text/x-python",
   "name": "python",
   "nbconvert_exporter": "python",
   "pygments_lexer": "ipython3",
   "version": "3.10.9"
  }
 },
 "nbformat": 4,
 "nbformat_minor": 1
}
